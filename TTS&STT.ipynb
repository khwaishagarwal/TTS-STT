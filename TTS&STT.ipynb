{
 "cells": [
  {
   "cell_type": "code",
   "execution_count": 1,
   "id": "744a3fca-9f0e-4b0f-b3bb-f50671503077",
   "metadata": {},
   "outputs": [
    {
     "name": "stdout",
     "output_type": "stream",
     "text": [
      "Requirement already satisfied: gtts in /opt/anaconda3/lib/python3.11/site-packages (2.5.1)\n",
      "Requirement already satisfied: requests<3,>=2.27 in /opt/anaconda3/lib/python3.11/site-packages (from gtts) (2.31.0)\n",
      "Requirement already satisfied: click<8.2,>=7.1 in /opt/anaconda3/lib/python3.11/site-packages (from gtts) (8.1.7)\n",
      "Requirement already satisfied: charset-normalizer<4,>=2 in /opt/anaconda3/lib/python3.11/site-packages (from requests<3,>=2.27->gtts) (2.0.4)\n",
      "Requirement already satisfied: idna<4,>=2.5 in /opt/anaconda3/lib/python3.11/site-packages (from requests<3,>=2.27->gtts) (3.4)\n",
      "Requirement already satisfied: urllib3<3,>=1.21.1 in /opt/anaconda3/lib/python3.11/site-packages (from requests<3,>=2.27->gtts) (2.0.7)\n",
      "Requirement already satisfied: certifi>=2017.4.17 in /opt/anaconda3/lib/python3.11/site-packages (from requests<3,>=2.27->gtts) (2024.6.2)\n"
     ]
    }
   ],
   "source": [
    "!pip install gtts"
   ]
  },
  {
   "cell_type": "code",
   "execution_count": 2,
   "id": "6b828c20-b072-4658-a5f7-94ec2c491207",
   "metadata": {},
   "outputs": [],
   "source": [
    "from gtts import gTTS\n",
    "import os"
   ]
  },
  {
   "cell_type": "code",
   "execution_count": 3,
   "id": "a4c3217d-5c22-427d-9470-f7ca0ba142dc",
   "metadata": {},
   "outputs": [
    {
     "data": {
      "text/plain": [
       "0"
      ]
     },
     "execution_count": 3,
     "metadata": {},
     "output_type": "execute_result"
    }
   ],
   "source": [
    "tts=gTTS(text=\"Hello, how are you?\",lang=\"en\")\n",
    "tts.save(\"firstOutput.mp3\")\n",
    "os.system(\"open firstOutput.mp3\")"
   ]
  },
  {
   "cell_type": "code",
   "execution_count": 4,
   "id": "7fec3222-27c6-488f-bc9b-7fed525af9b8",
   "metadata": {},
   "outputs": [
    {
     "name": "stdout",
     "output_type": "stream",
     "text": [
      "home\n",
      "usr\n",
      "bin\n",
      "sbin\n",
      ".file\n",
      "etc\n",
      "var\n",
      "Library\n",
      "System\n",
      ".VolumeIcon.icns\n",
      "private\n",
      ".vol\n",
      "Users\n",
      "Applications\n",
      "opt\n",
      "dev\n",
      "Volumes\n",
      "tmp\n",
      "cores\n"
     ]
    }
   ],
   "source": [
    "directorypath='/'\n",
    "contents=os.listdir(directorypath)\n",
    "for item in contents:\n",
    "    print(item)"
   ]
  },
  {
   "cell_type": "code",
   "execution_count": 5,
   "id": "8e7de2af-61b5-4eed-a3f8-dbafcccd10dd",
   "metadata": {},
   "outputs": [
    {
     "name": "stdout",
     "output_type": "stream",
     "text": [
      "Requirement already satisfied: pocketsphinx in /opt/anaconda3/lib/python3.11/site-packages (5.0.3)\n",
      "Requirement already satisfied: sounddevice in /opt/anaconda3/lib/python3.11/site-packages (from pocketsphinx) (0.4.7)\n",
      "Requirement already satisfied: CFFI>=1.0 in /opt/anaconda3/lib/python3.11/site-packages (from sounddevice->pocketsphinx) (1.16.0)\n",
      "Requirement already satisfied: pycparser in /opt/anaconda3/lib/python3.11/site-packages (from CFFI>=1.0->sounddevice->pocketsphinx) (2.21)\n"
     ]
    }
   ],
   "source": [
    "!pip install pocketsphinx"
   ]
  },
  {
   "cell_type": "code",
   "execution_count": 24,
   "id": "70242ae8-dfb6-46e0-87ac-c4a59bd77669",
   "metadata": {},
   "outputs": [],
   "source": [
    "from pocketsphinx import LiveSpeech\n",
    "def transcribe_live_speech():\n",
    "    print(\"Speak\")\n",
    "    speech = LiveSpeech()\n",
    "    for phrase in speech:\n",
    "        print(phrase)\n",
    "        break"
   ]
  },
  {
   "cell_type": "code",
   "execution_count": 26,
   "id": "3a778811-60c8-4f2f-9447-12767e87afa2",
   "metadata": {},
   "outputs": [
    {
     "name": "stdout",
     "output_type": "stream",
     "text": [
      "Speak\n",
      "they do\n"
     ]
    }
   ],
   "source": [
    "transcribe_live_speech()"
   ]
  },
  {
   "cell_type": "code",
   "execution_count": 32,
   "id": "16ab41ea-f545-437b-96f4-9598fcb98fd6",
   "metadata": {},
   "outputs": [
    {
     "name": "stdout",
     "output_type": "stream",
     "text": [
      "i know\n"
     ]
    }
   ],
   "source": [
    "from pocketsphinx import LiveSpeech\n",
    "stt=LiveSpeech()\n",
    "for t in stt:\n",
    "    print(t)\n",
    "    break"
   ]
  },
  {
   "cell_type": "code",
   "execution_count": null,
   "id": "1f0ef0eb-13d6-4f2d-84c9-7c3df7ea3b42",
   "metadata": {},
   "outputs": [],
   "source": []
  }
 ],
 "metadata": {
  "kernelspec": {
   "display_name": "Python 3 (ipykernel)",
   "language": "python",
   "name": "python3"
  },
  "language_info": {
   "codemirror_mode": {
    "name": "ipython",
    "version": 3
   },
   "file_extension": ".py",
   "mimetype": "text/x-python",
   "name": "python",
   "nbconvert_exporter": "python",
   "pygments_lexer": "ipython3",
   "version": "3.11.5"
  }
 },
 "nbformat": 4,
 "nbformat_minor": 5
}
